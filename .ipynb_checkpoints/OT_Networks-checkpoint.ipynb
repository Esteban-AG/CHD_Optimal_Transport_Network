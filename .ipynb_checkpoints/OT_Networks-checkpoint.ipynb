{
 "cells": [
  {
   "cell_type": "code",
   "execution_count": 4,
   "id": "042a169a-92d6-4ec0-9874-ae689b8d0e36",
   "metadata": {},
   "outputs": [],
   "source": [
    "import networkx as nx\n",
    "import numpy as np\n",
    "import pandas as pd\n",
    "import matplotlib.pyplot as plt"
   ]
  },
  {
   "cell_type": "markdown",
   "id": "a56dc45a-1f1a-46ef-8f7c-12c206ada66d",
   "metadata": {},
   "source": [
    "## Step 1\n",
    "Import data and make some exploratory analysis. Distance is normalized to the average, Population is normalized to the total population"
   ]
  },
  {
   "cell_type": "code",
   "execution_count": 21,
   "id": "b45d68a0-a554-4d2e-8bc3-9d42d05fcfb5",
   "metadata": {},
   "outputs": [
    {
     "data": {
      "text/html": [
       "<div>\n",
       "<style scoped>\n",
       "    .dataframe tbody tr th:only-of-type {\n",
       "        vertical-align: middle;\n",
       "    }\n",
       "\n",
       "    .dataframe tbody tr th {\n",
       "        vertical-align: top;\n",
       "    }\n",
       "\n",
       "    .dataframe thead th {\n",
       "        text-align: right;\n",
       "    }\n",
       "</style>\n",
       "<table border=\"1\" class=\"dataframe\">\n",
       "  <thead>\n",
       "    <tr style=\"text-align: right;\">\n",
       "      <th></th>\n",
       "      <th>City</th>\n",
       "      <th>Population</th>\n",
       "      <th>Latitude</th>\n",
       "      <th>Longitude</th>\n",
       "    </tr>\n",
       "  </thead>\n",
       "  <tbody>\n",
       "    <tr>\n",
       "      <th>0</th>\n",
       "      <td>Berlin</td>\n",
       "      <td>0.170716</td>\n",
       "      <td>52.52</td>\n",
       "      <td>13.38</td>\n",
       "    </tr>\n",
       "    <tr>\n",
       "      <th>1</th>\n",
       "      <td>Hamburg</td>\n",
       "      <td>0.087981</td>\n",
       "      <td>53.55</td>\n",
       "      <td>10.00</td>\n",
       "    </tr>\n",
       "    <tr>\n",
       "      <th>2</th>\n",
       "      <td>Munich</td>\n",
       "      <td>0.067102</td>\n",
       "      <td>48.14</td>\n",
       "      <td>11.58</td>\n",
       "    </tr>\n",
       "    <tr>\n",
       "      <th>3</th>\n",
       "      <td>Cologne</td>\n",
       "      <td>0.050797</td>\n",
       "      <td>50.95</td>\n",
       "      <td>6.97</td>\n",
       "    </tr>\n",
       "    <tr>\n",
       "      <th>4</th>\n",
       "      <td>Frankfurt</td>\n",
       "      <td>0.033703</td>\n",
       "      <td>50.12</td>\n",
       "      <td>8.68</td>\n",
       "    </tr>\n",
       "  </tbody>\n",
       "</table>\n",
       "</div>"
      ],
      "text/plain": [
       "        City  Population  Latitude  Longitude\n",
       "0     Berlin    0.170716     52.52      13.38\n",
       "1    Hamburg    0.087981     53.55      10.00\n",
       "2     Munich    0.067102     48.14      11.58\n",
       "3    Cologne    0.050797     50.95       6.97\n",
       "4  Frankfurt    0.033703     50.12       8.68"
      ]
     },
     "execution_count": 21,
     "metadata": {},
     "output_type": "execute_result"
    }
   ],
   "source": [
    "cities = pd.read_csv('cityData.dat', header=None, sep='\\t', index_col=0, names=['City', 'Population', 'Latitude', 'Longitude'])\n",
    "cities.head()"
   ]
  },
  {
   "cell_type": "code",
   "execution_count": 47,
   "id": "edef89fc-0277-4ddf-8341-56cd0f9ffcba",
   "metadata": {},
   "outputs": [
    {
     "data": {
      "text/plain": [
       "(40, 4)"
      ]
     },
     "execution_count": 47,
     "metadata": {},
     "output_type": "execute_result"
    }
   ],
   "source": [
    "cities.shape"
   ]
  },
  {
   "cell_type": "code",
   "execution_count": 29,
   "id": "6d2a230b-5e07-45cf-b2e5-dafdb98b6a66",
   "metadata": {},
   "outputs": [
    {
     "data": {
      "text/html": [
       "<div>\n",
       "<style scoped>\n",
       "    .dataframe tbody tr th:only-of-type {\n",
       "        vertical-align: middle;\n",
       "    }\n",
       "\n",
       "    .dataframe tbody tr th {\n",
       "        vertical-align: top;\n",
       "    }\n",
       "\n",
       "    .dataframe thead th {\n",
       "        text-align: right;\n",
       "    }\n",
       "</style>\n",
       "<table border=\"1\" class=\"dataframe\">\n",
       "  <thead>\n",
       "    <tr style=\"text-align: right;\">\n",
       "      <th></th>\n",
       "      <th>Origin</th>\n",
       "      <th>Destiny</th>\n",
       "      <th>Distance</th>\n",
       "    </tr>\n",
       "  </thead>\n",
       "  <tbody>\n",
       "    <tr>\n",
       "      <th>0</th>\n",
       "      <td>0</td>\n",
       "      <td>1</td>\n",
       "      <td>5.084382</td>\n",
       "    </tr>\n",
       "    <tr>\n",
       "      <th>1</th>\n",
       "      <td>0</td>\n",
       "      <td>2</td>\n",
       "      <td>10.082311</td>\n",
       "    </tr>\n",
       "    <tr>\n",
       "      <th>2</th>\n",
       "      <td>0</td>\n",
       "      <td>3</td>\n",
       "      <td>9.523469</td>\n",
       "    </tr>\n",
       "    <tr>\n",
       "      <th>3</th>\n",
       "      <td>0</td>\n",
       "      <td>4</td>\n",
       "      <td>8.456714</td>\n",
       "    </tr>\n",
       "    <tr>\n",
       "      <th>4</th>\n",
       "      <td>0</td>\n",
       "      <td>5</td>\n",
       "      <td>10.201078</td>\n",
       "    </tr>\n",
       "  </tbody>\n",
       "</table>\n",
       "</div>"
      ],
      "text/plain": [
       "   Origin  Destiny   Distance\n",
       "0       0        1   5.084382\n",
       "1       0        2  10.082311\n",
       "2       0        3   9.523469\n",
       "3       0        4   8.456714\n",
       "4       0        5  10.201078"
      ]
     },
     "execution_count": 29,
     "metadata": {},
     "output_type": "execute_result"
    }
   ],
   "source": [
    "distances = pd.read_csv('cityDistances.dat', sep='\\t', header= None, names=['Origin','Destiny','Distance'])\n",
    "distances.head()"
   ]
  },
  {
   "cell_type": "code",
   "execution_count": 33,
   "id": "94ff89c6-ac4d-4e07-a225-1480a0bd9a74",
   "metadata": {},
   "outputs": [
    {
     "data": {
      "text/plain": [
       "(780, 3)"
      ]
     },
     "execution_count": 33,
     "metadata": {},
     "output_type": "execute_result"
    }
   ],
   "source": [
    "distances.shape"
   ]
  },
  {
   "cell_type": "markdown",
   "id": "9a3db157-f24a-4be3-8055-8c76de5cc14f",
   "metadata": {},
   "source": [
    "### Step 1.5\n",
    "Try to define a graph with the data "
   ]
  },
  {
   "cell_type": "code",
   "execution_count": 56,
   "id": "95634e31-ffbb-4fca-9b21-5cd69840c846",
   "metadata": {},
   "outputs": [],
   "source": [
    "nodes = [(i,cities.to_dict(orient='records')[i]) for i in range(cities.shape[0])]\n",
    "edges = [(distances.iloc[i,0],distances.iloc[i,1],{'weight': distances.iloc[i,2]}) for i in range(distances.shape[0])]"
   ]
  },
  {
   "cell_type": "code",
   "execution_count": null,
   "id": "fa3d94dc-1604-4463-9462-c8649e2c0782",
   "metadata": {},
   "outputs": [],
   "source": []
  },
  {
   "cell_type": "markdown",
   "id": "e5dfefaf-f175-46c7-9b73-f847256a9204",
   "metadata": {},
   "source": [
    "## Step 2\n",
    "Define the cost functions\n",
    "$$C_{tot} = C_{infra} + \\gamma C_{trans}$$\n",
    "$$C_{infra} = \\sum_{e_{ij}\\in E}d(e_{ij}) $$\n",
    "$$C_{trans} = \\frac{1}{2} \\sum_{i,j \\in V} P_i P_j ~ \\tilde{d}_{ji} $$\n",
    "\n",
    "Where $ \\tilde{d}_{ji}$ is defined by\n",
    "\n",
    "$$ \\tilde{d}(e_{ij}) = (1-\\delta) d(e_{ij}) + \\delta $$"
   ]
  },
  {
   "cell_type": "code",
   "execution_count": null,
   "id": "647eed34-4450-4a80-9592-bdde1641895c",
   "metadata": {},
   "outputs": [],
   "source": [
    "def C_infra(graph):\n",
    "    edges = list(graph.edges) # list of tuples\n",
    "    nodes = list(graph.nodes) \n",
    "    weights = list(graph.edges[:]['weight']) "
   ]
  },
  {
   "cell_type": "code",
   "execution_count": null,
   "id": "3889f7c5-b58b-4af5-b4ce-15c252eaf23f",
   "metadata": {},
   "outputs": [],
   "source": []
  },
  {
   "cell_type": "code",
   "execution_count": 52,
   "id": "88fa902b-69c1-4aba-bc52-e17fff701000",
   "metadata": {},
   "outputs": [
    {
     "data": {
      "image/png": "[encoded data removed]",
      "text/plain": [
       "<Figure size 200x200 with 1 Axes>"
      ]
     },
     "metadata": {},
     "output_type": "display_data"
    }
   ],
   "source": [
    "prueba = nx.complete_graph(5)\n",
    "\n",
    "plt.figure(figsize=(2,2))\n",
    "nx.draw(prueba)\n",
    "plt.show()"
   ]
  }
 ],
 "metadata": {
  "kernelspec": {
   "display_name": "Python 3 (ipykernel)",
   "language": "python",
   "name": "python3"
  },
  "language_info": {
   "codemirror_mode": {
    "name": "ipython",
    "version": 3
   },
   "file_extension": ".py",
   "mimetype": "text/x-python",
   "name": "python",
   "nbconvert_exporter": "python",
   "pygments_lexer": "ipython3",
   "version": "3.11.7"
  }
 },
 "nbformat": 4,
 "nbformat_minor": 5
}
